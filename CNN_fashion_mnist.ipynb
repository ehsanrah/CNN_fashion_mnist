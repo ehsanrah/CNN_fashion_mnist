{
 "cells": [
  {
   "cell_type": "code",
   "execution_count": 2,
   "metadata": {
    "id": "nN6BovYY-Tmx"
   },
   "outputs": [],
   "source": [
    "#Import necessary packages\n",
    "import keras\n",
    "import numpy as np\n",
    "import math\n",
    "from keras.datasets import fashion_mnist\n",
    "from keras.models import Sequential\n",
    "from keras.layers import Dense, Conv2D, Flatten, MaxPooling2D, Dropout, Reshape, LSTM\n",
    "import matplotlib.pyplot as plt\n",
    "import pickle as cPickle\n"
   ]
  },
  {
   "cell_type": "markdown",
   "metadata": {
    "id": "8nsj0bKB-xSj"
   },
   "source": [
    "# Importing and normalizing data"
   ]
  },
  {
   "cell_type": "code",
   "execution_count": 3,
   "metadata": {
    "colab": {
     "base_uri": "https://localhost:8080/"
    },
    "id": "HSy2if2r96am",
    "outputId": "ecf70ede-8229-4fe9-ccad-bbd1f85634ca"
   },
   "outputs": [
    {
     "name": "stdout",
     "output_type": "stream",
     "text": [
      "Downloading data from https://storage.googleapis.com/tensorflow/tf-keras-datasets/train-labels-idx1-ubyte.gz\n",
      "32768/29515 [=================================] - 0s 0us/step\n",
      "40960/29515 [=========================================] - 0s 0us/step\n",
      "Downloading data from https://storage.googleapis.com/tensorflow/tf-keras-datasets/train-images-idx3-ubyte.gz\n",
      "26427392/26421880 [==============================] - 0s 0us/step\n",
      "26435584/26421880 [==============================] - 0s 0us/step\n",
      "Downloading data from https://storage.googleapis.com/tensorflow/tf-keras-datasets/t10k-labels-idx1-ubyte.gz\n",
      "16384/5148 [===============================================================================================] - 0s 0us/step\n",
      "Downloading data from https://storage.googleapis.com/tensorflow/tf-keras-datasets/t10k-images-idx3-ubyte.gz\n",
      "4423680/4422102 [==============================] - 0s 0us/step\n",
      "4431872/4422102 [==============================] - 0s 0us/step\n",
      "(10000, 28, 28)\n",
      "(10000, 28, 28, 1)\n"
     ]
    }
   ],
   "source": [
    "#Import dataset and normalize to [0,1]\n",
    "#Has shape (num_samples, 28, 28)\n",
    "(data_train, labels_train), (data_test, labels_test) = fashion_mnist.load_data()\n",
    "data_train = data_train/255.0\n",
    "data_test = data_test/255.0\n",
    "print(data_test.shape)\n",
    "data_train = data_train.reshape(60000, 28, 28, 1)\n",
    "data_test = data_test.reshape(10000, 28, 28, 1)\n",
    "print(data_test.shape)\n",
    "#Create labels as one-hot vectors\n",
    "#labels_train and labels_test have shapes (60000, 10) and (10000 10,) respectively\n",
    "labels_train = keras.utils.np_utils.to_categorical(labels_train, num_classes=10)\n",
    "labels_test = keras.utils.np_utils.to_categorical(labels_test, num_classes=10)\n"
   ]
  },
  {
   "cell_type": "markdown",
   "metadata": {
    "id": "jpqq8Tl4_GO-"
   },
   "source": [
    "# Overfit CNN"
   ]
  },
  {
   "cell_type": "code",
   "execution_count": null,
   "metadata": {
    "colab": {
     "base_uri": "https://localhost:8080/"
    },
    "id": "aEE1Emk-_LtF",
    "outputId": "4a84d198-f2d5-4a28-931d-c8896e02f5ab"
   },
   "outputs": [
    {
     "name": "stdout",
     "output_type": "stream",
     "text": [
      "Epoch 1/100\n",
      "30/30 [==============================] - 47s 428ms/step - loss: 2.3443 - accuracy: 0.0990 - val_loss: 2.3072 - val_accuracy: 0.1000\n",
      "Epoch 2/100\n",
      "30/30 [==============================] - 11s 362ms/step - loss: 2.3073 - accuracy: 0.0969 - val_loss: 2.2979 - val_accuracy: 0.1000\n",
      "Epoch 3/100\n",
      "30/30 [==============================] - 11s 362ms/step - loss: 2.2261 - accuracy: 0.1654 - val_loss: 1.9032 - val_accuracy: 0.3957\n",
      "Epoch 4/100\n",
      "30/30 [==============================] - 11s 362ms/step - loss: 1.5639 - accuracy: 0.4219 - val_loss: 1.2387 - val_accuracy: 0.5457\n",
      "Epoch 5/100\n",
      "30/30 [==============================] - 11s 362ms/step - loss: 1.1114 - accuracy: 0.5848 - val_loss: 0.9666 - val_accuracy: 0.6245\n",
      "Epoch 6/100\n",
      "30/30 [==============================] - 11s 360ms/step - loss: 0.9667 - accuracy: 0.6323 - val_loss: 0.8695 - val_accuracy: 0.6814\n",
      "Epoch 7/100\n",
      "30/30 [==============================] - 11s 363ms/step - loss: 0.8892 - accuracy: 0.6590 - val_loss: 0.9965 - val_accuracy: 0.6039\n",
      "Epoch 8/100\n",
      "30/30 [==============================] - 11s 362ms/step - loss: 0.8149 - accuracy: 0.6928 - val_loss: 0.8706 - val_accuracy: 0.6692\n",
      "Epoch 9/100\n",
      "30/30 [==============================] - 11s 362ms/step - loss: 0.7813 - accuracy: 0.7005 - val_loss: 0.7700 - val_accuracy: 0.6860\n",
      "Epoch 10/100\n",
      "30/30 [==============================] - 11s 359ms/step - loss: 0.7459 - accuracy: 0.7141 - val_loss: 0.8451 - val_accuracy: 0.6792\n",
      "Epoch 11/100\n",
      "30/30 [==============================] - 11s 361ms/step - loss: 0.7158 - accuracy: 0.7223 - val_loss: 0.7466 - val_accuracy: 0.7199\n",
      "Epoch 12/100\n",
      "30/30 [==============================] - 11s 362ms/step - loss: 0.6821 - accuracy: 0.7358 - val_loss: 0.6514 - val_accuracy: 0.7439\n",
      "Epoch 13/100\n",
      "30/30 [==============================] - 11s 362ms/step - loss: 0.6595 - accuracy: 0.7443 - val_loss: 0.8061 - val_accuracy: 0.6790\n",
      "Epoch 14/100\n",
      "30/30 [==============================] - 11s 359ms/step - loss: 0.6392 - accuracy: 0.7527 - val_loss: 0.6600 - val_accuracy: 0.7374\n",
      "Epoch 15/100\n",
      "30/30 [==============================] - 11s 360ms/step - loss: 0.6211 - accuracy: 0.7574 - val_loss: 0.6485 - val_accuracy: 0.7563\n",
      "Epoch 16/100\n",
      "30/30 [==============================] - 11s 363ms/step - loss: 0.5924 - accuracy: 0.7722 - val_loss: 0.6505 - val_accuracy: 0.7485\n",
      "Epoch 17/100\n",
      "30/30 [==============================] - 11s 363ms/step - loss: 0.5728 - accuracy: 0.7759 - val_loss: 0.6317 - val_accuracy: 0.7513\n",
      "Epoch 18/100\n",
      "30/30 [==============================] - 11s 359ms/step - loss: 0.5577 - accuracy: 0.7858 - val_loss: 0.6170 - val_accuracy: 0.7581\n",
      "Epoch 19/100\n",
      "30/30 [==============================] - 11s 360ms/step - loss: 0.5402 - accuracy: 0.7911 - val_loss: 0.6099 - val_accuracy: 0.7581\n",
      "Epoch 20/100\n",
      "30/30 [==============================] - 11s 362ms/step - loss: 0.5277 - accuracy: 0.7973 - val_loss: 0.5810 - val_accuracy: 0.7745\n",
      "Epoch 21/100\n",
      "30/30 [==============================] - 11s 362ms/step - loss: 0.5089 - accuracy: 0.8058 - val_loss: 0.5453 - val_accuracy: 0.7939\n",
      "Epoch 22/100\n",
      "30/30 [==============================] - 11s 359ms/step - loss: 0.4942 - accuracy: 0.8112 - val_loss: 0.5237 - val_accuracy: 0.7976\n",
      "Epoch 23/100\n",
      "30/30 [==============================] - 11s 361ms/step - loss: 0.4870 - accuracy: 0.8132 - val_loss: 0.5461 - val_accuracy: 0.7870\n",
      "Epoch 24/100\n",
      "30/30 [==============================] - 11s 362ms/step - loss: 0.4720 - accuracy: 0.8193 - val_loss: 0.5542 - val_accuracy: 0.7921\n",
      "Epoch 25/100\n",
      "30/30 [==============================] - 11s 363ms/step - loss: 0.4620 - accuracy: 0.8258 - val_loss: 0.5293 - val_accuracy: 0.7900\n",
      "Epoch 26/100\n",
      "30/30 [==============================] - 11s 360ms/step - loss: 0.4589 - accuracy: 0.8260 - val_loss: 0.4697 - val_accuracy: 0.8238\n",
      "Epoch 27/100\n",
      "30/30 [==============================] - 11s 361ms/step - loss: 0.4448 - accuracy: 0.8302 - val_loss: 0.4977 - val_accuracy: 0.8203\n",
      "Epoch 28/100\n",
      "30/30 [==============================] - 11s 362ms/step - loss: 0.4396 - accuracy: 0.8325 - val_loss: 0.5018 - val_accuracy: 0.8076\n",
      "Epoch 29/100\n",
      "30/30 [==============================] - 11s 361ms/step - loss: 0.4298 - accuracy: 0.8371 - val_loss: 0.5079 - val_accuracy: 0.8096\n",
      "Epoch 30/100\n",
      "30/30 [==============================] - 11s 360ms/step - loss: 0.4216 - accuracy: 0.8410 - val_loss: 0.4911 - val_accuracy: 0.8149\n",
      "Epoch 31/100\n",
      "30/30 [==============================] - 11s 360ms/step - loss: 0.4145 - accuracy: 0.8436 - val_loss: 0.4703 - val_accuracy: 0.8219\n",
      "Epoch 32/100\n",
      "30/30 [==============================] - 11s 362ms/step - loss: 0.4078 - accuracy: 0.8461 - val_loss: 0.4612 - val_accuracy: 0.8270\n",
      "Epoch 33/100\n",
      "30/30 [==============================] - 11s 362ms/step - loss: 0.4032 - accuracy: 0.8489 - val_loss: 0.4353 - val_accuracy: 0.8394\n",
      "Epoch 34/100\n",
      "30/30 [==============================] - 11s 359ms/step - loss: 0.3919 - accuracy: 0.8516 - val_loss: 0.4822 - val_accuracy: 0.8139\n",
      "Epoch 35/100\n",
      "30/30 [==============================] - 11s 361ms/step - loss: 0.3908 - accuracy: 0.8525 - val_loss: 0.4415 - val_accuracy: 0.8352\n",
      "Epoch 36/100\n",
      "30/30 [==============================] - 11s 362ms/step - loss: 0.3791 - accuracy: 0.8571 - val_loss: 0.4603 - val_accuracy: 0.8301\n",
      "Epoch 37/100\n",
      "30/30 [==============================] - 11s 362ms/step - loss: 0.3804 - accuracy: 0.8561 - val_loss: 0.4240 - val_accuracy: 0.8461\n",
      "Epoch 38/100\n",
      "30/30 [==============================] - 11s 359ms/step - loss: 0.3744 - accuracy: 0.8589 - val_loss: 0.4456 - val_accuracy: 0.8323\n",
      "Epoch 39/100\n",
      "30/30 [==============================] - 11s 361ms/step - loss: 0.3673 - accuracy: 0.8611 - val_loss: 0.3846 - val_accuracy: 0.8605\n",
      "Epoch 40/100\n",
      "30/30 [==============================] - 11s 363ms/step - loss: 0.3632 - accuracy: 0.8625 - val_loss: 0.4123 - val_accuracy: 0.8479\n",
      "Epoch 41/100\n",
      "30/30 [==============================] - 11s 362ms/step - loss: 0.3614 - accuracy: 0.8638 - val_loss: 0.3932 - val_accuracy: 0.8571\n",
      "Epoch 42/100\n",
      "30/30 [==============================] - 11s 360ms/step - loss: 0.3486 - accuracy: 0.8697 - val_loss: 0.3902 - val_accuracy: 0.8585\n",
      "Epoch 43/100\n",
      "30/30 [==============================] - 11s 361ms/step - loss: 0.3446 - accuracy: 0.8704 - val_loss: 0.4050 - val_accuracy: 0.8534\n",
      "Epoch 44/100\n",
      "30/30 [==============================] - 11s 362ms/step - loss: 0.3422 - accuracy: 0.8710 - val_loss: 0.4297 - val_accuracy: 0.8359\n",
      "Epoch 45/100\n",
      "30/30 [==============================] - 11s 362ms/step - loss: 0.3359 - accuracy: 0.8726 - val_loss: 0.4278 - val_accuracy: 0.8402\n",
      "Epoch 46/100\n",
      "30/30 [==============================] - 11s 360ms/step - loss: 0.3338 - accuracy: 0.8739 - val_loss: 0.3919 - val_accuracy: 0.8530\n",
      "Epoch 47/100\n",
      "30/30 [==============================] - 11s 361ms/step - loss: 0.3312 - accuracy: 0.8745 - val_loss: 0.4193 - val_accuracy: 0.8399\n",
      "Epoch 48/100\n",
      "30/30 [==============================] - 11s 362ms/step - loss: 0.3285 - accuracy: 0.8748 - val_loss: 0.3815 - val_accuracy: 0.8564\n",
      "Epoch 49/100\n",
      "30/30 [==============================] - 11s 362ms/step - loss: 0.3220 - accuracy: 0.8776 - val_loss: 0.3758 - val_accuracy: 0.8652\n",
      "Epoch 50/100\n",
      "30/30 [==============================] - 11s 360ms/step - loss: 0.3201 - accuracy: 0.8792 - val_loss: 0.4099 - val_accuracy: 0.8493\n",
      "Epoch 51/100\n",
      "30/30 [==============================] - 11s 360ms/step - loss: 0.3134 - accuracy: 0.8813 - val_loss: 0.4005 - val_accuracy: 0.8517\n",
      "Epoch 52/100\n",
      "30/30 [==============================] - 11s 362ms/step - loss: 0.3147 - accuracy: 0.8805 - val_loss: 0.4009 - val_accuracy: 0.8494\n",
      "Epoch 53/100\n",
      "30/30 [==============================] - 11s 362ms/step - loss: 0.3100 - accuracy: 0.8828 - val_loss: 0.4162 - val_accuracy: 0.8444\n",
      "Epoch 54/100\n",
      "30/30 [==============================] - 11s 360ms/step - loss: 0.3050 - accuracy: 0.8838 - val_loss: 0.3684 - val_accuracy: 0.8645\n",
      "Epoch 55/100\n",
      "30/30 [==============================] - 11s 361ms/step - loss: 0.3011 - accuracy: 0.8853 - val_loss: 0.3683 - val_accuracy: 0.8658\n",
      "Epoch 56/100\n",
      "30/30 [==============================] - 11s 362ms/step - loss: 0.3013 - accuracy: 0.8859 - val_loss: 0.3813 - val_accuracy: 0.8596\n",
      "Epoch 57/100\n",
      "30/30 [==============================] - 11s 362ms/step - loss: 0.2965 - accuracy: 0.8880 - val_loss: 0.3530 - val_accuracy: 0.8697\n",
      "Epoch 58/100\n",
      "30/30 [==============================] - 11s 360ms/step - loss: 0.2996 - accuracy: 0.8857 - val_loss: 0.3568 - val_accuracy: 0.8674\n",
      "Epoch 59/100\n",
      "30/30 [==============================] - 11s 361ms/step - loss: 0.2917 - accuracy: 0.8888 - val_loss: 0.3468 - val_accuracy: 0.8707\n",
      "Epoch 60/100\n",
      "30/30 [==============================] - 11s 362ms/step - loss: 0.2893 - accuracy: 0.8889 - val_loss: 0.3971 - val_accuracy: 0.8537\n",
      "Epoch 61/100\n",
      "30/30 [==============================] - 11s 362ms/step - loss: 0.2879 - accuracy: 0.8910 - val_loss: 0.3988 - val_accuracy: 0.8537\n",
      "Epoch 62/100\n",
      "30/30 [==============================] - 11s 359ms/step - loss: 0.2834 - accuracy: 0.8926 - val_loss: 0.3767 - val_accuracy: 0.8620\n",
      "Epoch 63/100\n",
      "30/30 [==============================] - 11s 361ms/step - loss: 0.2821 - accuracy: 0.8924 - val_loss: 0.3440 - val_accuracy: 0.8747\n",
      "Epoch 64/100\n",
      "30/30 [==============================] - 11s 362ms/step - loss: 0.2791 - accuracy: 0.8949 - val_loss: 0.3556 - val_accuracy: 0.8698\n",
      "Epoch 65/100\n",
      "30/30 [==============================] - 11s 362ms/step - loss: 0.2786 - accuracy: 0.8934 - val_loss: 0.3654 - val_accuracy: 0.8620\n",
      "Epoch 66/100\n",
      "30/30 [==============================] - 11s 360ms/step - loss: 0.2763 - accuracy: 0.8957 - val_loss: 0.3477 - val_accuracy: 0.8743\n",
      "Epoch 67/100\n",
      "30/30 [==============================] - 11s 360ms/step - loss: 0.2690 - accuracy: 0.8977 - val_loss: 0.3501 - val_accuracy: 0.8703\n",
      "Epoch 68/100\n",
      "30/30 [==============================] - 11s 362ms/step - loss: 0.2714 - accuracy: 0.8970 - val_loss: 0.3473 - val_accuracy: 0.8736\n",
      "Epoch 69/100\n",
      "30/30 [==============================] - 11s 362ms/step - loss: 0.2669 - accuracy: 0.8988 - val_loss: 0.3831 - val_accuracy: 0.8598\n",
      "Epoch 70/100\n",
      "30/30 [==============================] - 11s 360ms/step - loss: 0.2650 - accuracy: 0.8997 - val_loss: 0.3909 - val_accuracy: 0.8633\n",
      "Epoch 71/100\n",
      "30/30 [==============================] - 11s 361ms/step - loss: 0.2644 - accuracy: 0.8993 - val_loss: 0.3548 - val_accuracy: 0.8691\n",
      "Epoch 72/100\n",
      "30/30 [==============================] - 11s 362ms/step - loss: 0.2612 - accuracy: 0.9017 - val_loss: 0.3738 - val_accuracy: 0.8622\n",
      "Epoch 73/100\n",
      "30/30 [==============================] - 11s 362ms/step - loss: 0.2605 - accuracy: 0.9000 - val_loss: 0.3433 - val_accuracy: 0.8772\n",
      "Epoch 74/100\n",
      "30/30 [==============================] - 11s 359ms/step - loss: 0.2553 - accuracy: 0.9030 - val_loss: 0.3523 - val_accuracy: 0.8744\n",
      "Epoch 75/100\n",
      "30/30 [==============================] - 11s 360ms/step - loss: 0.2556 - accuracy: 0.9022 - val_loss: 0.3853 - val_accuracy: 0.8666\n",
      "Epoch 76/100\n",
      "30/30 [==============================] - 11s 364ms/step - loss: 0.2514 - accuracy: 0.9032 - val_loss: 0.3406 - val_accuracy: 0.8791\n",
      "Epoch 77/100\n",
      "30/30 [==============================] - 11s 363ms/step - loss: 0.2544 - accuracy: 0.9022 - val_loss: 0.3528 - val_accuracy: 0.8748\n",
      "Epoch 78/100\n",
      "30/30 [==============================] - 11s 361ms/step - loss: 0.2515 - accuracy: 0.9040 - val_loss: 0.3261 - val_accuracy: 0.8834\n",
      "Epoch 79/100\n",
      "30/30 [==============================] - 11s 361ms/step - loss: 0.2457 - accuracy: 0.9061 - val_loss: 0.3451 - val_accuracy: 0.8763\n",
      "Epoch 80/100\n",
      "30/30 [==============================] - 11s 363ms/step - loss: 0.2439 - accuracy: 0.9073 - val_loss: 0.3512 - val_accuracy: 0.8764\n",
      "Epoch 81/100\n",
      "30/30 [==============================] - 11s 362ms/step - loss: 0.2403 - accuracy: 0.9081 - val_loss: 0.3785 - val_accuracy: 0.8630\n",
      "Epoch 82/100\n",
      "30/30 [==============================] - 11s 360ms/step - loss: 0.2415 - accuracy: 0.9074 - val_loss: 0.3473 - val_accuracy: 0.8746\n",
      "Epoch 83/100\n",
      "30/30 [==============================] - 11s 362ms/step - loss: 0.2389 - accuracy: 0.9085 - val_loss: 0.3351 - val_accuracy: 0.8822\n",
      "Epoch 84/100\n",
      "30/30 [==============================] - 11s 362ms/step - loss: 0.2334 - accuracy: 0.9104 - val_loss: 0.3624 - val_accuracy: 0.8734\n",
      "Epoch 85/100\n",
      "30/30 [==============================] - 11s 362ms/step - loss: 0.2358 - accuracy: 0.9090 - val_loss: 0.3544 - val_accuracy: 0.8755\n",
      "Epoch 86/100\n",
      "30/30 [==============================] - 11s 360ms/step - loss: 0.2321 - accuracy: 0.9112 - val_loss: 0.3387 - val_accuracy: 0.8789\n",
      "Epoch 87/100\n",
      "30/30 [==============================] - 11s 360ms/step - loss: 0.2304 - accuracy: 0.9122 - val_loss: 0.3832 - val_accuracy: 0.8658\n",
      "Epoch 88/100\n",
      "30/30 [==============================] - 11s 362ms/step - loss: 0.2270 - accuracy: 0.9138 - val_loss: 0.3446 - val_accuracy: 0.8775\n",
      "Epoch 89/100\n",
      "30/30 [==============================] - 11s 362ms/step - loss: 0.2259 - accuracy: 0.9136 - val_loss: 0.3511 - val_accuracy: 0.8710\n",
      "Epoch 90/100\n",
      "30/30 [==============================] - 11s 359ms/step - loss: 0.2258 - accuracy: 0.9131 - val_loss: 0.3531 - val_accuracy: 0.8757\n",
      "Epoch 91/100\n",
      "30/30 [==============================] - 11s 362ms/step - loss: 0.2226 - accuracy: 0.9150 - val_loss: 0.3235 - val_accuracy: 0.8833\n",
      "Epoch 92/100\n",
      "30/30 [==============================] - 11s 362ms/step - loss: 0.2216 - accuracy: 0.9145 - val_loss: 0.3315 - val_accuracy: 0.8836\n",
      "Epoch 93/100\n",
      "30/30 [==============================] - 11s 362ms/step - loss: 0.2171 - accuracy: 0.9169 - val_loss: 0.3560 - val_accuracy: 0.8763\n",
      "Epoch 94/100\n",
      "30/30 [==============================] - 11s 360ms/step - loss: 0.2190 - accuracy: 0.9160 - val_loss: 0.3373 - val_accuracy: 0.8786\n",
      "Epoch 95/100\n",
      "30/30 [==============================] - 11s 360ms/step - loss: 0.2145 - accuracy: 0.9187 - val_loss: 0.3330 - val_accuracy: 0.8820\n",
      "Epoch 96/100\n",
      "30/30 [==============================] - 11s 362ms/step - loss: 0.2130 - accuracy: 0.9184 - val_loss: 0.3347 - val_accuracy: 0.8855\n",
      "Epoch 97/100\n",
      "30/30 [==============================] - 11s 363ms/step - loss: 0.2111 - accuracy: 0.9197 - val_loss: 0.3427 - val_accuracy: 0.8821\n",
      "Epoch 98/100\n",
      "30/30 [==============================] - 11s 359ms/step - loss: 0.2127 - accuracy: 0.9186 - val_loss: 0.3384 - val_accuracy: 0.8765\n",
      "Epoch 99/100\n",
      "30/30 [==============================] - 11s 362ms/step - loss: 0.2088 - accuracy: 0.9211 - val_loss: 0.3569 - val_accuracy: 0.8755\n",
      "Epoch 100/100\n",
      "30/30 [==============================] - 11s 362ms/step - loss: 0.2062 - accuracy: 0.9206 - val_loss: 0.3577 - val_accuracy: 0.8751\n",
      "313/313 [==============================] - 2s 6ms/step - loss: 0.3577 - accuracy: 0.8751\n",
      "Accuracy: 87.51%\n"
     ]
    }
   ],
   "source": [
    "num_classes=10\n",
    "#Create and train model architecture\n",
    "def CNN_overfit():\n",
    "    #Easiest way to build model in Keras is using Sequential. It allows models to \n",
    "    #be built layer by layer as we will do here\n",
    "    model = Sequential()\n",
    "    \n",
    "    # Bild a 2D Convolutional layer with 256 feature maps and a 3x3 filter\n",
    "    model.add(Conv2D(256 , (3,3),use_bias = False, activation = 'sigmoid', input_shape = (28,28,1)))\n",
    "    \n",
    "    # Add a 2x2 MaxPooling layer\n",
    "    model.add(MaxPooling2D(pool_size=(2,2), strides = None, padding = 'valid', data_format = None ))\n",
    "    \n",
    "    # Add a 2D Convolutional layer with \n",
    "    model.add(Conv2D(128, (3,3), activation = 'sigmoid', input_shape = (13,13,256) ))\n",
    "\n",
    "    # Add a 2x2 MaxPooling layer\n",
    "    model.add(MaxPooling2D(pool_size=(2,2), strides = None, padding = 'valid', data_format = None ))\n",
    "    \n",
    "    # Flatten data for input into Dense layers\n",
    "    model.add(Flatten())\n",
    "    \n",
    "    # Add Dense layer with 100 perceptrons\n",
    "    model.add(Dense(100, activation = \"relu\", kernel_initializer = \"normal\"))\n",
    "    \n",
    "    # Add another Dense layer with 100 perceptrons\n",
    "    model.add(Dense(100, activation = \"relu\", kernel_initializer = \"normal\"))\n",
    "\n",
    "    #Output layer with num_classes perceptrons\n",
    "    model.add(Dense(num_classes, activation = \"softmax\"))\n",
    "    \n",
    "    return model\n",
    "#Create instance of CNN model graph\n",
    "CNN_overfit = CNN_overfit()\n",
    "\n",
    "#Compile model using an appropriate loss and optimizer algorithm\n",
    "CNN_overfit.compile(loss = 'categorical_crossentropy', optimizer = 'RMSprop', metrics = ['accuracy'])\n",
    "\n",
    "#Train the model and assign training meta-data to a variable\n",
    "CNN_overfit_mdata = CNN_overfit.fit(data_train, labels_train, validation_data = (data_test, labels_test), epochs =100, batch_size = 2048, shuffle = True)\n",
    "\n",
    "#Print accuracy of model on testing set after training \n",
    "scores = CNN_overfit.evaluate(data_test, labels_test)\n",
    "\n",
    "print(\"Accuracy: %.2f%%\" %(scores[1]*100))"
   ]
  },
  {
   "cell_type": "code",
   "execution_count": null,
   "metadata": {
    "colab": {
     "base_uri": "https://localhost:8080/",
     "height": 558
    },
    "id": "vMoClYGyB9jV",
    "outputId": "b00d2298-eb7a-4dc6-b4b0-e29429abdeff"
   },
   "outputs": [
    {
     "name": "stderr",
     "output_type": "stream",
     "text": [
      "/usr/local/lib/python3.7/dist-packages/ipykernel_launcher.py:8: MatplotlibDeprecationWarning: Unrecognized location 'bottom right'. Falling back on 'best'; valid locations are\n",
      "\tbest\n",
      "\tupper right\n",
      "\tupper left\n",
      "\tlower left\n",
      "\tlower right\n",
      "\tright\n",
      "\tcenter left\n",
      "\tcenter right\n",
      "\tlower center\n",
      "\tupper center\n",
      "\tcenter\n",
      "This will raise an exception in 3.3.\n",
      "  \n"
     ]
    },
    {
     "data": {
      "image/png": "[encoded data removed]",
      "text/plain": [
       "<Figure size 432x288 with 1 Axes>"
      ]
     },
     "metadata": {
      "needs_background": "light"
     },
     "output_type": "display_data"
    }
   ],
   "source": [
    "#Plot accuracy vs epoch\n",
    "\n",
    "plt.plot(CNN_overfit_mdata.history['accuracy'])\n",
    "plt.plot(CNN_overfit_mdata.history['val_accuracy'])\n",
    "plt.title('CNN accuracy vs. Epoch')\n",
    "plt.ylabel('Accuracy')\n",
    "plt.xlabel('Epoch')\n",
    "plt.legend(['train','test'], loc='bottom right')\n",
    "plt.show()"
   ]
  },
  {
   "cell_type": "code",
   "execution_count": null,
   "metadata": {
    "colab": {
     "base_uri": "https://localhost:8080/",
     "height": 295
    },
    "id": "T928MhUzCAd2",
    "outputId": "0a88bcf1-7ab2-4ac1-c05f-a83b21e039e6"
   },
   "outputs": [
    {
     "data": {
      "image/png": "[encoded data removed]",
      "text/plain": [
       "<Figure size 432x288 with 1 Axes>"
      ]
     },
     "metadata": {
      "needs_background": "light"
     },
     "output_type": "display_data"
    }
   ],
   "source": [
    "#Plot loss vs epoch\n",
    "plt.plot(CNN_overfit_mdata.history['loss'])\n",
    "plt.plot(CNN_overfit_mdata.history['val_loss'])\n",
    "plt.title('CNN Loss vs. Epoch')\n",
    "plt.ylabel('Loss')\n",
    "plt.xlabel('Epoch')\n",
    "plt.legend(['train','test'], loc='upper right')\n",
    "plt.show()"
   ]
  }
 ],
 "metadata": {
  "accelerator": "GPU",
  "colab": {
   "collapsed_sections": [],
   "name": "Project_1_Solution_code.ipynb",
   "provenance": []
  },
  "kernelspec": {
   "display_name": "Python 3",
   "language": "python",
   "name": "python3"
  },
  "language_info": {
   "codemirror_mode": {
    "name": "ipython",
    "version": 3
   },
   "file_extension": ".py",
   "mimetype": "text/x-python",
   "name": "python",
   "nbconvert_exporter": "python",
   "pygments_lexer": "ipython3",
   "version": "3.8.8"
  }
 },
 "nbformat": 4,
 "nbformat_minor": 1
}
